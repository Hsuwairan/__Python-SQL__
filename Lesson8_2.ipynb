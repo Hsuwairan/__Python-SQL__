{
 "cells": [
  {
   "cell_type": "code",
   "execution_count": 8,
   "metadata": {},
   "outputs": [],
   "source": [
    "students = [{'name': '許丞宏', 'Chinese': 78, 'english': 56, 'math': 56},\n",
    "           {'name': '許丞', 'Chinese': 77, 'english': 55, 'math': 55},\n",
    "           {'name': '許宏', 'Chinese': 79, 'english': 57, 'math': 567}\n",
    "            ]\n"
   ]
  },
  {
   "cell_type": "code",
   "execution_count": 10,
   "metadata": {},
   "outputs": [
    {
     "name": "stdout",
     "output_type": "stream",
     "text": [
      "許丞宏\n",
      "78\n",
      "56\n",
      "56\n",
      "===================\n",
      "許丞\n",
      "77\n",
      "55\n",
      "55\n",
      "===================\n",
      "許宏\n",
      "79\n",
      "57\n",
      "567\n",
      "===================\n"
     ]
    }
   ],
   "source": [
    "for student in students:\n",
    "    for key in student:\n",
    "        print(student[key])\n",
    "    print(\"===================\")"
   ]
  }
 ],
 "metadata": {
  "kernelspec": {
   "display_name": "Python 3",
   "language": "python",
   "name": "python3"
  },
  "language_info": {
   "codemirror_mode": {
    "name": "ipython",
    "version": 3
   },
   "file_extension": ".py",
   "mimetype": "text/x-python",
   "name": "python",
   "nbconvert_exporter": "python",
   "pygments_lexer": "ipython3",
   "version": "3.10.13"
  }
 },
 "nbformat": 4,
 "nbformat_minor": 2
}
