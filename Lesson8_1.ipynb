{
 "cells": [
  {
   "cell_type": "code",
   "execution_count": 2,
   "metadata": {},
   "outputs": [
    {
     "name": "stdout",
     "output_type": "stream",
     "text": [
      "Hello Python\n"
     ]
    }
   ],
   "source": [
    "print(\"Hello Python\")"
   ]
  },
  {
   "cell_type": "code",
   "execution_count": 11,
   "metadata": {},
   "outputs": [],
   "source": [
    "n = 50\n",
    "m = 5.0\n",
    "name = '許丞宏'\n",
    "is_google = True"
   ]
  },
  {
   "cell_type": "code",
   "execution_count": 12,
   "metadata": {},
   "outputs": [
    {
     "name": "stdout",
     "output_type": "stream",
     "text": [
      "50\n",
      "5.0\n",
      "許丞宏\n",
      "True\n"
     ]
    }
   ],
   "source": [
    "print(n) # int\n",
    "print(m) # float\n",
    "print(name) # str\n",
    "print(is_google) # bool"
   ]
  },
  {
   "cell_type": "code",
   "execution_count": 15,
   "metadata": {},
   "outputs": [
    {
     "data": {
      "text/plain": [
       "('a', 'b', 'C', 'd')"
      ]
     },
     "execution_count": 15,
     "metadata": {},
     "output_type": "execute_result"
    }
   ],
   "source": [
    "t1 = (1,2,3,4)\n",
    "t1\n",
    "\n",
    "t2 = ('a','b','C','d')\n",
    "t2"
   ]
  },
  {
   "cell_type": "code",
   "execution_count": 1,
   "metadata": {},
   "outputs": [
    {
     "name": "stdout",
     "output_type": "stream",
     "text": [
      "<class 'tuple'>\n",
      "<class 'tuple'>\n"
     ]
    }
   ],
   "source": [
    "t1 = (1,2,3,4)\n",
    "print(type(t1))\n",
    "\n",
    "t2 = ('a','b','c','d')\n",
    "print(type(t2))"
   ]
  },
  {
   "cell_type": "code",
   "execution_count": 4,
   "metadata": {},
   "outputs": [],
   "source": [
    "#tuple,暫存的資料\n",
    "#tuple的內容不可以修改\n",
    "#tuple最常使用在拆解法(拆解tuple,給變數)\n",
    "\n",
    "(name,Chinese,math,english) = ('許丞宏',45,78,63)"
   ]
  },
  {
   "cell_type": "code",
   "execution_count": 5,
   "metadata": {},
   "outputs": [
    {
     "name": "stdout",
     "output_type": "stream",
     "text": [
      "許丞宏\n",
      "45\n",
      "78\n",
      "63\n"
     ]
    }
   ],
   "source": [
    "print(name)\n",
    "print(Chinese)\n",
    "print(math)\n",
    "print(english)"
   ]
  }
 ],
 "metadata": {
  "kernelspec": {
   "display_name": "Python 3",
   "language": "python",
   "name": "python3"
  },
  "language_info": {
   "codemirror_mode": {
    "name": "ipython",
    "version": 3
   },
   "file_extension": ".py",
   "mimetype": "text/x-python",
   "name": "python",
   "nbconvert_exporter": "python",
   "pygments_lexer": "ipython3",
   "version": "3.10.13"
  }
 },
 "nbformat": 4,
 "nbformat_minor": 2
}
